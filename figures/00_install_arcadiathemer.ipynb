{
 "cells": [
  {
   "cell_type": "code",
   "execution_count": 1,
   "id": "a19c1541-13b6-4e0b-9277-d28d1fe7b51d",
   "metadata": {},
   "outputs": [
    {
     "name": "stderr",
     "output_type": "stream",
     "text": [
      "Downloading GitHub repo Arcadia-Science/arcadiathemeR@cd6def7caf56a528dd8207da5252964a86fd3cef\n",
      "\n"
     ]
    },
    {
     "name": "stdout",
     "output_type": "stream",
     "text": [
      "Rttf2pt1    (NA -> 1.3.12) [CRAN]\n",
      "extrafontdb (NA -> 1.0   ) [CRAN]\n",
      "snakecase   (NA -> 0.11.1) [CRAN]\n",
      "extrafont   (NA -> 0.19  ) [CRAN]\n"
     ]
    },
    {
     "name": "stderr",
     "output_type": "stream",
     "text": [
      "Installing 4 packages: Rttf2pt1, extrafontdb, snakecase, extrafont\n",
      "\n",
      "Updating HTML index of packages in '.Library'\n",
      "\n",
      "Making 'packages.html' ...\n",
      " done\n",
      "\n",
      "Running `R CMD build`...\n",
      "\n"
     ]
    },
    {
     "name": "stdout",
     "output_type": "stream",
     "text": [
      "* checking for file ‘/private/var/folders/76/q53ldgh1667_lm49fpxybglc0000gn/T/RtmpcZ8LNc/remotes11eb531b85366/Arcadia-Science-arcadiathemeR-cd6def7/DESCRIPTION’ ... OK\n",
      "* preparing ‘arcadiathemeR’:\n",
      "* checking DESCRIPTION meta-information ... OK\n",
      "* checking for LF line-endings in source and make files and shell scripts\n",
      "* checking for empty or unneeded directories\n",
      "Omitted ‘LazyData’ from DESCRIPTION\n",
      "* building ‘arcadiathemeR_0.1.0.tar.gz’\n"
     ]
    }
   ],
   "source": [
    "remotes::install_github(\"Arcadia-Science/arcadiathemeR\", ref = \"cd6def7caf56a528dd8207da5252964a86fd3cef\")"
   ]
  },
  {
   "cell_type": "code",
   "execution_count": null,
   "id": "1191b981-7447-47a9-90c6-190ab08fe8b6",
   "metadata": {},
   "outputs": [],
   "source": []
  }
 ],
 "metadata": {
  "kernelspec": {
   "display_name": "R",
   "language": "R",
   "name": "ir"
  },
  "language_info": {
   "codemirror_mode": "r",
   "file_extension": ".r",
   "mimetype": "text/x-r-source",
   "name": "R",
   "pygments_lexer": "r",
   "version": "4.4.3"
  }
 },
 "nbformat": 4,
 "nbformat_minor": 5
}
